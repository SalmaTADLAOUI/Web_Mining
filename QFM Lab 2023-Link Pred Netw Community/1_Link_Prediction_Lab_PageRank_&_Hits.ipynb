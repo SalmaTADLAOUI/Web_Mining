{
  "cells": [
    {
      "cell_type": "markdown",
      "metadata": {
        "id": "W7Kpi9qgTFQR"
      },
      "source": [
        "# Link Prediction \n",
        "In this workshop we will implement PageRank, Weighted PageRank and Hits"
      ]
    },
    {
      "cell_type": "code",
      "execution_count": null,
      "metadata": {
        "id": "t8pAsSN1TFQX"
      },
      "outputs": [],
      "source": [
        "import numpy as np"
      ]
    },
    {
      "cell_type": "markdown",
      "metadata": {
        "id": "hqDDS2rhTFQZ"
      },
      "source": [
        "## Part 1: \n",
        "The algorithm below aims to calculate the convergence score of the PageRank algorithm\n",
        "the input of the algorithm is the adjacency matrix of a given graph\n",
        "\n",
        "### Exercise:\n",
        "Calculate PageRank scores for the following graph: \n",
        "\n",
        "![image.png](attachment:image.png)"
      ]
    },
    {
      "cell_type": "code",
      "execution_count": null,
      "metadata": {
        "colab": {
          "base_uri": "https://localhost:8080/"
        },
        "id": "7qPLBKP3TFQa",
        "outputId": "c9a3ba3e-363b-485f-a444-6423c1caa6dc"
      },
      "outputs": [
        {
          "output_type": "stream",
          "name": "stdout",
          "text": [
            "[3, 3, 1, 2, 3]\n",
            " initial PageRank:\n",
            "[1, 1, 1, 1, 1]\n",
            "\n",
            "The pageranks converge towards :\n",
            "[0.291, 0.4977, 1.4249, 1.8499, 0.9362]\n",
            "\n",
            "the sum of the PageRanks:  4.9997\n"
          ]
        }
      ],
      "source": [
        "\n",
        "def calculate_PageRank(outlinks):\n",
        "\t\"\"\"\n",
        "\tA function that returns PageRank scores for different nodes\n",
        "\t\n",
        "\tParameters:\n",
        "\t-----------\n",
        "\toutlinks: (nxn) a matrix containing outlinks \"outlinks\" for each node \n",
        "\t\n",
        "\tReturns:\n",
        "\t--------\n",
        "\tpage_ranks: list, containing the pageRanks for each node \n",
        "\t\"\"\"\n",
        "\t\n",
        "\t# \"damping factor\"\n",
        "\td = 0.85\n",
        "\t\n",
        "\t# the size of the matrix \n",
        "\tsize = outlinks.shape[0]\n",
        "\t\n",
        "\t# a list to store pagerank scores \n",
        "\tpage_ranks = [1 for i in range(size)]\n",
        "\t\n",
        "\t#  calculate outdegree for each node\n",
        "\tout_degrees = []\n",
        "\tfor i in range(size):\n",
        "\t\tsums = 0\n",
        "\t\tfor j in range(size):\n",
        "\t\t\tsums += outlinks[i][j]\n",
        "\t\tout_degrees.append(sums)\n",
        "\t\t\n",
        "\tprint(out_degrees)\n",
        "\t\n",
        "\tprint(' initial PageRank:')\n",
        "\tprint(page_ranks)\n",
        "\t\n",
        "\tfor _ in range(100):\n",
        "\t\tfor j in range(size):\n",
        "\t\t\ttemp = 0\n",
        "\t\t\tfor i in range(size):\n",
        "\t\t\t\tif outlinks[i][j] == 1:\n",
        "\t\t\t\t\ttemp += page_ranks[i] / out_degrees[i]\n",
        "\t\t\ttemp *= d\n",
        "\t\t\ttemp += (1-d)\n",
        "\t\t\tpage_ranks[j] = round(temp, 4)\n",
        "\t\t\n",
        "\treturn page_ranks\n",
        "\t\t\t\n",
        "outlinks = [0, 1, 1, 1, 0, 1, 0, 1, 1, 0, 0, 0, 0, 1, 0, 0, 0, 1, 0, 1, 0, 1, 1, 1, 0]\n",
        "outlinks = np.reshape(outlinks, (5, 5))\n",
        "page_ranks = calculate_PageRank(outlinks)\t\n",
        "print()\n",
        "print('The pageranks converge towards :')\n",
        "print(page_ranks)\n",
        "print()\n",
        "sums = 0\n",
        "for i in page_ranks:\n",
        "\tsums += i\n",
        "print('the sum of the PageRanks: ', round(sums, 4))\n"
      ]
    },
    {
      "cell_type": "code",
      "execution_count": null,
      "metadata": {
        "colab": {
          "base_uri": "https://localhost:8080/"
        },
        "id": "qlOjHL53TFQc",
        "outputId": "89f33843-fe65-48cd-f196-53c172f84f57"
      },
      "outputs": [
        {
          "output_type": "stream",
          "name": "stdout",
          "text": [
            "[2, 2, 1, 3, 0, 2]\n",
            " initial PageRank:\n",
            "[1, 1, 1, 1, 1, 1]\n",
            "\n",
            "The pageranks converge towards :\n",
            "[0.7835, 1.4905, 1.1853, 0.243, 0.3118, 0.2188]\n",
            "\n",
            "the sum of the PageRanks:  4.2329\n"
          ]
        }
      ],
      "source": [
        "#For the graph we have above the adjency matrix\n",
        "outlinks = [0, 1, 1, 0,0, 0 ,1,0,1,0,0,0,0,1,0,0,0,0,0,0,1,0,1,1,0,0,0,0,0,0,0,0,0,1,1,0]\n",
        "outlinks = np.reshape(outlinks, (6,6))\n",
        "page_ranks = calculate_PageRank(outlinks)\t\n",
        "print()\n",
        "print('The pageranks converge towards :')\n",
        "print(page_ranks)\n",
        "print()\n",
        "sums = 0\n",
        "for i in page_ranks:\n",
        "\tsums += i\n",
        "print('the sum of the PageRanks: ', round(sums, 4))\n"
      ]
    },
    {
      "cell_type": "markdown",
      "metadata": {
        "id": "_WwW5K9kTFQd"
      },
      "source": [
        "## part 2:\n",
        "the algorithm at the bottom is an implementation of the Weighted PageRank algorithm.\n",
        "\n",
        "The corresponding scientific article is as follows: \n",
        "\n",
        "https://citeseerx.ist.psu.edu/viewdoc/download?doi=10.1.1.92.6452&rep=rep1&type=pdf\n",
        "\n",
        "On Page 4 you will find an example calculation. \n",
        "\n",
        "### Exercise\n",
        "\n",
        "You are required to complete the algorithm code by replacing \"None\" with the corresponding code. "
      ]
    },
    {
      "cell_type": "code",
      "execution_count": null,
      "metadata": {
        "colab": {
          "base_uri": "https://localhost:8080/"
        },
        "id": "xuXOWmLdTFQe",
        "outputId": "6c2dc7e9-b5cf-4365-c11a-0bab890a4cca"
      },
      "outputs": [
        {
          "output_type": "stream",
          "name": "stdout",
          "text": [
            "[1, 2, 4, 4, 1]\n",
            "[3, 3, 1, 2, 3]\n",
            "Initial page ranks:\n",
            "[1, 1, 1, 1, 1]\n",
            "{0: [1, 2, 3], 1: [0, 2, 3], 2: [3], 3: [2, 4], 4: [1, 2, 3]}\n",
            "\n",
            "the weighted pagerank converge towards:\n",
            "[0.1585, 0.1809, 0.2553, 0.431, 0.205]\n",
            "\n",
            " the sum of the weighted PageRank is:  1.2307\n"
          ]
        }
      ],
      "source": [
        "\n",
        "def calculate_PageRank(outlinks):\n",
        "\n",
        "\t\"\"\"\n",
        "\tA function that returns PageRank scores for different nodes \n",
        "\t\n",
        "\tParameters:\n",
        "\t-----------\n",
        "\toutlinks: (nxn) a matrix containing outlinks \"outlinks\" for each node \n",
        "\t\n",
        "\tReturns:\n",
        "\t--------\n",
        "\tpage_ranks: list, containing the weighted pageRanks for each node \n",
        "\t\"\"\"\n",
        "\t# \"damping factor\"\n",
        "\td = 0.85\n",
        "\t\n",
        "\t# the matrix size \n",
        "\tsize = outlinks.shape[0]\n",
        "\t\n",
        "\t# a list to store pagerank score\n",
        "\tpage_ranks = [1 for i in range(size)]\n",
        "\t\n",
        "\t# calculate the Out degrees for each node\n",
        "\tout_degrees = []\n",
        "\tfor i in range(size):\n",
        "\t\tsums = 0\n",
        "\t\tfor j in range(size):\n",
        "\t\t\tsums += outlinks[i][j]\n",
        "\t\tout_degrees.append(sums)\n",
        "\t\t\n",
        "\t# calculate the in degree for each node\n",
        "\tin_degrees = []\n",
        "\tfor j in range(5):\n",
        "\t\tsums = 0\n",
        "\t\tfor i in range(5):\n",
        "\t\t\tsums += outlinks[i][j]\n",
        "\t\tin_degrees.append(sums)\n",
        "\t\t\n",
        "\tprint(in_degrees)\n",
        "\tprint(out_degrees)\n",
        "\t\n",
        "\tprint('Initial page ranks:')\n",
        "\tprint(page_ranks)\n",
        "\n",
        "\t# Store destination nodes for each node\n",
        "\tnodes = {}\n",
        "\tfor i in range(5):\n",
        "\t\ttemp = []\n",
        "\t\tfor j in range(5):\n",
        "\t\t\tif outlinks[i][j] == 1:\n",
        "\t\t\t\ttemp.append(j)\n",
        "\t\tnodes[i] = temp\n",
        "\n",
        "\tprint(nodes)\n",
        "\n",
        "\tfor _ in range(100):\n",
        "\t\tfor j in range(size):\n",
        "\t\t\ttemp = 0\n",
        "\t\t\tfor i in range(size):\n",
        "\t\t\t\tout_degree = 0\n",
        "\t\t\t\tin_degree = 0\n",
        "\t\t\t\tif outlinks[i][j] == 1:\n",
        "\t\t\t\t\tfor l in nodes[i]:\n",
        "\t\t\t\t\t\tout_degree += out_degrees[l]\n",
        "\t\t\t\t\t\tin_degree += in_degrees[l]\n",
        "\t\t\t\t\ttemp += page_ranks[i] * out_degrees[j]/out_degree * in_degrees[j]/in_degree\n",
        "\t\t\ttemp *= d\n",
        "\t\t\ttemp += (1 - d)\n",
        "\t\t\tpage_ranks[j] = round(temp, 4)\n",
        "\t\t\n",
        "\treturn page_ranks\n",
        "\t\t\t\n",
        "outlinks = [0, 1, 1, 1, 0, 1, 0, 1, 1, 0, 0, 0, 0, 1, 0, 0, 0, 1, 0, 1, 0, 1, 1, 1, 0]\n",
        "outlinks = np.reshape(outlinks, (5, 5))\n",
        "page_ranks = calculate_PageRank(outlinks)\n",
        "print()\t\n",
        "print('the weighted pagerank converge towards:')\n",
        "print(page_ranks)\n",
        "sums = 0\n",
        "for i in page_ranks:\n",
        "\tsums += i\n",
        "print('\\n the sum of the weighted PageRank is: ', round(sums, 4))\n"
      ]
    },
    {
      "cell_type": "markdown",
      "metadata": {
        "id": "q6WiTjysTFQf"
      },
      "source": [
        "desired output:\n",
        "\n",
        "the weighted pageranks converge towards:\n",
        "\n",
        "[0.1585, 0.1809, 0.2553, 0.431, 0.205]\n",
        "\n",
        "the sum of weighted PageRank is: 1.2307"
      ]
    },
    {
      "cell_type": "markdown",
      "metadata": {
        "id": "TfILjwHdTFQg"
      },
      "source": [
        "## Part 3: \n",
        "An implementation of Hits' algorithm\n",
        "\n",
        "Calculate the scores for the graph given above "
      ]
    },
    {
      "cell_type": "code",
      "execution_count": null,
      "metadata": {
        "id": "KJ-AiIdXTFQh"
      },
      "outputs": [],
      "source": [
        "\n",
        "\n",
        "# Hits algo \n",
        "def authority_hub_score(outlinks):\n",
        "\t\"\"\"\n",
        "\tthis function calculates Authorities and Hubs for each node\n",
        "\t\n",
        "\tParameters:\n",
        "\t------------\n",
        "\toutlinks: (n, n) adjacency matrix \n",
        "\t\n",
        "\tReturns:\n",
        "\t---------\n",
        "\thub_score: nd-array, contains hub scores \n",
        "\t\n",
        "\tauthority score: nd-array, contains authorities for each node \n",
        "\t\"\"\"\n",
        "\t\n",
        "\t# matrix size  \n",
        "\tsize = outlinks.shape[0]\n",
        "\t\n",
        "\t# list initialization  \n",
        "\thub_scores = [1.0 for i in range(size)]\n",
        "\tauthority_scores = [1.0 for i in range(size)]\n",
        "\t\n",
        "\t#  initials hubs \n",
        "\tprint(hub_scores)\n",
        "\t\n",
        "\tfor _ in range(100):\n",
        "\t\t# Calculates authority for each node \n",
        "\t\tfor j in range(size):\n",
        "\t\t\ttemp_auth = 0.0\n",
        "\t\t\tfor i in range(size):\n",
        "\t\t\t\tif outlinks[i][j] == 1:\n",
        "\t\t\t\t\ttemp_auth += authority_scores[i]\n",
        "\t\t\tauthority_scores[j] = temp_auth\n",
        "\t\t\t\n",
        "\t\t# Authority score normalization \n",
        "\t\tauth_sum = sum(authority_scores)\n",
        "\t\t# print(auth_sum)\n",
        "\t\tfor i in range(len(authority_scores)):\n",
        "\t\t\tauthority_scores[i] /= auth_sum\n",
        "\t\t\n",
        "\t\t# Calculate the hubs  score \n",
        "\t\tfor i in range(size):\n",
        "\t\t\ttemp_hub = 0.0\n",
        "\t\t\tfor j in range(size):\n",
        "\t\t\t\tif outlinks[i][j] == 1:\n",
        "\t\t\t\t\ttemp_hub += hub_scores[j]\n",
        "\t\t\thub_scores[i] = temp_hub\n",
        "\t\t\t\n",
        "\t\t# Normalisation of hubs score \n",
        "\t\thub_sum = sum(hub_scores)\n",
        "\t\t# print(hub_sum)\n",
        "\t\tfor i in range(len(hub_scores)):\n",
        "\t\t\thub_scores[i] /= hub_sum\n",
        "\t\n",
        "\treturn authority_scores, hub_scores\n",
        "\t\t\t\t\t\n",
        "\n",
        "\n"
      ]
    },
    {
      "cell_type": "code",
      "execution_count": null,
      "metadata": {
        "colab": {
          "base_uri": "https://localhost:8080/"
        },
        "id": "KhBXpV7CTFQh",
        "outputId": "24ebcab9-e693-4d27-b2cf-39cbfaae1410"
      },
      "outputs": [
        {
          "output_type": "stream",
          "name": "stdout",
          "text": [
            "enter the size of the matrix :\t6\n",
            "[1.0, 1.0, 1.0, 1.0, 1.0, 1.0]\n",
            "the authority scores :\n",
            "0.1464\n",
            "0.3536\n",
            "0.5\n",
            "0.0\n",
            "0.0\n",
            "0.0\n",
            "the hubs scores :\n",
            "0.1176\n",
            "0.1765\n",
            "0.1765\n",
            "0.2647\n",
            "0.0\n",
            "0.2647\n"
          ]
        }
      ],
      "source": [
        "n = int(input('enter the size of the matrix :\\t'))\n",
        "outlinks = [0, 1, 1, 0,0, 0 ,1,0,1,0,0,0,0,1,0,0,0,0,0,0,1,0,1,1,0,0,0,0,0,0,0,0,0,1,1,0]\t\n",
        "outlinks = np.reshape(outlinks, (n, n))\n",
        "authority_scores, hub_scores = authority_hub_score(outlinks)\n",
        "print(\"the authority scores :\")\n",
        "for i in (authority_scores):\n",
        "\tprint(round(i, 4))\n",
        "print(\"the hubs scores :\")\n",
        "for i in (hub_scores):\n",
        "\tprint(round(i, 4))"
      ]
    },
    {
      "cell_type": "code",
      "execution_count": null,
      "metadata": {
        "id": "NsDguV1cTFQi"
      },
      "outputs": [],
      "source": []
    }
  ],
  "metadata": {
    "kernelspec": {
      "display_name": "Python 3 (ipykernel)",
      "language": "python",
      "name": "python3"
    },
    "language_info": {
      "codemirror_mode": {
        "name": "ipython",
        "version": 3
      },
      "file_extension": ".py",
      "mimetype": "text/x-python",
      "name": "python",
      "nbconvert_exporter": "python",
      "pygments_lexer": "ipython3",
      "version": "3.9.13"
    },
    "colab": {
      "provenance": []
    }
  },
  "nbformat": 4,
  "nbformat_minor": 0
}